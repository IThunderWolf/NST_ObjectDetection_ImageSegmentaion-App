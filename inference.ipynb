{
 "cells": [
  {
   "cell_type": "code",
   "execution_count": 1,
   "metadata": {},
   "outputs": [],
   "source": [
    "from ultralytics import YOLO"
   ]
  },
  {
   "cell_type": "markdown",
   "metadata": {},
   "source": [
    "- Classes :\n",
    "1. Black footed Albatross\n",
    "2. Laysan Albatross\n",
    "3. Groove billed Ani\n",
    "4. Red winged Blackbird\n",
    "5. Rusty Blackbird\n",
    "6. Bobolink\n",
    "7. Indigo Bunting\n",
    "8. Eastern Towhee\n",
    "9. Pelagic Cormorant\n",
    "10. Bronzed Cowbird\n",
    "11. Shiny Cowbird\n",
    "12. American Crow\n",
    "13. Fish Crow\n",
    "14. Black billed Cuckoo\n",
    "15. Purple Finch\n",
    "16. Northern Flicker\n",
    "17. Great Crested Flycatcher\n",
    "18. Olive sided Flycatcher\n",
    "19. Scissor tailed Flycatcher\n",
    "20. Vermilion Flycatcher"
   ]
  },
  {
   "cell_type": "code",
   "execution_count": 2,
   "metadata": {},
   "outputs": [
    {
     "name": "stdout",
     "output_type": "stream",
     "text": [
      "\n",
      "image 1/1 c:\\Users\\kshit\\OneDrive\\Documents\\VSCode\\SEM_VI\\CaltechBirds\\test.jpg: 448x640 2 Purple_Finchs, 52.9ms\n",
      "Speed: 6.5ms preprocess, 52.9ms inference, 147.8ms postprocess per image at shape (1, 3, 448, 640)\n",
      "Results saved to \u001b[1mruns\\detect\\predict\u001b[0m\n"
     ]
    }
   ],
   "source": [
    "from ultralytics import YOLO\n",
    "\n",
    "# Load the trained model\n",
    "model = YOLO(\"best.pt\")\n",
    "\n",
    "# Run inference on an image\n",
    "results = model(\"test.jpg\", save=True)  # Replace with your image path"
   ]
  }
 ],
 "metadata": {
  "kernelspec": {
   "display_name": "Python 3",
   "language": "python",
   "name": "python3"
  },
  "language_info": {
   "codemirror_mode": {
    "name": "ipython",
    "version": 3
   },
   "file_extension": ".py",
   "mimetype": "text/x-python",
   "name": "python",
   "nbconvert_exporter": "python",
   "pygments_lexer": "ipython3",
   "version": "3.12.1"
  }
 },
 "nbformat": 4,
 "nbformat_minor": 2
}
